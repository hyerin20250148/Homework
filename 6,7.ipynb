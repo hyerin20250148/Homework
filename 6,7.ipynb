{
  "nbformat": 4,
  "nbformat_minor": 0,
  "metadata": {
    "colab": {
      "provenance": [],
      "authorship_tag": "ABX9TyNQEHEAdaPfRwKTflp8DCj8",
      "include_colab_link": true
    },
    "kernelspec": {
      "name": "python3",
      "display_name": "Python 3"
    },
    "language_info": {
      "name": "python"
    }
  },
  "cells": [
    {
      "cell_type": "markdown",
      "metadata": {
        "id": "view-in-github",
        "colab_type": "text"
      },
      "source": [
        "<a href=\"https://colab.research.google.com/github/hyerin20250148/Homework/blob/main/6%2C7.ipynb\" target=\"_parent\"><img src=\"https://colab.research.google.com/assets/colab-badge.svg\" alt=\"Open In Colab\"/></a>"
      ]
    },
    {
      "cell_type": "code",
      "execution_count": 8,
      "metadata": {
        "id": "D078bw-ZzFzm"
      },
      "outputs": [],
      "source": [
        "intData=15\n",
        "floatData=2.5\n",
        "complexData=1+1j"
      ]
    },
    {
      "cell_type": "code",
      "source": [
        "isTrue=True\n",
        "isFalse=False"
      ],
      "metadata": {
        "id": "IA1CJYd5zU63"
      },
      "execution_count": 7,
      "outputs": []
    },
    {
      "cell_type": "code",
      "source": [
        "setData={1,2,3,4,5}"
      ],
      "metadata": {
        "id": "O5W7DzVXzU_B"
      },
      "execution_count": 6,
      "outputs": []
    },
    {
      "cell_type": "code",
      "source": [
        "dictData={0:False,1:True}"
      ],
      "metadata": {
        "id": "u2zquh7bzVED"
      },
      "execution_count": 5,
      "outputs": []
    },
    {
      "cell_type": "code",
      "source": [
        "print('안녕하세요 파이썬!')"
      ],
      "metadata": {
        "colab": {
          "base_uri": "https://localhost:8080/"
        },
        "id": "PFu8Tbf-zniH",
        "outputId": "9acd539e-5307-4947-869a-e8546da517ea"
      },
      "execution_count": 4,
      "outputs": [
        {
          "output_type": "stream",
          "name": "stdout",
          "text": [
            "안녕하세요 파이썬!\n"
          ]
        }
      ]
    },
    {
      "cell_type": "code",
      "source": [
        "hello='안녕하세요 파이썬!'\n",
        "print(hello)"
      ],
      "metadata": {
        "colab": {
          "base_uri": "https://localhost:8080/"
        },
        "id": "uacOGpMzztDo",
        "outputId": "689fea00-3b97-4eae-db86-d89ade99c274"
      },
      "execution_count": 3,
      "outputs": [
        {
          "output_type": "stream",
          "name": "stdout",
          "text": [
            "안녕하세요 파이썬!\n"
          ]
        }
      ]
    },
    {
      "cell_type": "code",
      "source": [
        "intData1=1\n",
        "intData2=2\n",
        "print(intData1+intData2)"
      ],
      "metadata": {
        "colab": {
          "base_uri": "https://localhost:8080/"
        },
        "id": "9eqfzCWeztGM",
        "outputId": "1fda26d0-bb5e-4692-8b6a-ec2e08e30223"
      },
      "execution_count": 2,
      "outputs": [
        {
          "output_type": "stream",
          "name": "stdout",
          "text": [
            "3\n"
          ]
        }
      ]
    },
    {
      "cell_type": "code",
      "source": [
        "name='홍길동'\n",
        "phone='010-1234-5678'\n",
        "print('이름:',name,'핸드폰:',phone)"
      ],
      "metadata": {
        "colab": {
          "base_uri": "https://localhost:8080/"
        },
        "id": "NQMBaqAWztIq",
        "outputId": "1ebbfd4d-00f1-4f0b-b80d-cb871d66c08f"
      },
      "execution_count": 9,
      "outputs": [
        {
          "output_type": "stream",
          "name": "stdout",
          "text": [
            "이름: 홍길동 핸드폰: 010-1234-5678\n"
          ]
        }
      ]
    },
    {
      "cell_type": "code",
      "source": [
        "print('#',end='')\n",
        "print('#'*5)"
      ],
      "metadata": {
        "id": "7k2GzkYXztK1"
      },
      "execution_count": null,
      "outputs": []
    },
    {
      "cell_type": "code",
      "source": [
        "print(name,phone,sep=';')"
      ],
      "metadata": {
        "colab": {
          "base_uri": "https://localhost:8080/"
        },
        "id": "iNlLcq3B0c7R",
        "outputId": "600bb3c7-3609-4710-d884-a8ee79626d7d"
      },
      "execution_count": 10,
      "outputs": [
        {
          "output_type": "stream",
          "name": "stdout",
          "text": [
            "홍길동;010-1234-5678\n"
          ]
        }
      ]
    }
  ]
}